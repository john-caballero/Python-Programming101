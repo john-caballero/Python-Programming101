{
  "nbformat": 4,
  "nbformat_minor": 0,
  "metadata": {
    "colab": {
      "provenance": [],
      "authorship_tag": "ABX9TyMtzPZhQWbAr/iNzIQEO5Mq",
      "include_colab_link": true
    },
    "kernelspec": {
      "name": "python3",
      "display_name": "Python 3"
    },
    "language_info": {
      "name": "python"
    }
  },
  "cells": [
    {
      "cell_type": "markdown",
      "metadata": {
        "id": "view-in-github",
        "colab_type": "text"
      },
      "source": [
        "<a href=\"https://colab.research.google.com/github/hvu88/Programacion_101/blob/ejercicios/Examen_Funciones_y_bucles.ipynb\" target=\"_parent\"><img src=\"https://colab.research.google.com/assets/colab-badge.svg\" alt=\"Open In Colab\"/></a>"
      ]
    },
    {
      "cell_type": "markdown",
      "source": [
        " Escribe una función en Python llamada cifrar_texto que tome una cadena de texto y un número entero positivo n.\n",
        " La función debe devolver una nueva cadena donde cada carácter alfabético ha sido desplazado n posiciones adelante en el alfabeto. El cifrado debe ser cíclico; es decir, después de la 'z' sigue la 'a'. Mantén los caracteres\n",
        " no alfabéticos sin cambios y preserva las mayúsculas y minúsculas."
      ],
      "metadata": {
        "id": "tnXtLuELQbWn"
      }
    },
    {
      "cell_type": "code",
      "source": [
        "def cifrar_texto(texto, n):\n",
        "  alfabeto = list('abcdefghijklmnopqrstuvwxyzABCDEFGHIJKLMNOPQRSTUVWXYZ')\n",
        "  cifrado = ''\n",
        "  for letra in texto:\n",
        "    if letra in alfabeto:\n",
        "      nueva_letra = alfabeto[alfabeto.index(letra)+n]\n",
        "      cifrado += nueva_letra\n",
        "    else:\n",
        "      cifrado += letra\n",
        "  return cifrado\n",
        "\n",
        "print(cifrar_texto(\"Hola, Mundo!\", 3))\n"
      ],
      "metadata": {
        "colab": {
          "base_uri": "https://localhost:8080/"
        },
        "id": "4tS6AEixSiyT",
        "outputId": "35fc092b-dbf0-4eb4-887c-e9391e2f6007"
      },
      "execution_count": null,
      "outputs": [
        {
          "output_type": "stream",
          "name": "stdout",
          "text": [
            "Krod, Pxqgr!\n"
          ]
        }
      ]
    },
    {
      "cell_type": "markdown",
      "source": [
        "Escribe una función en Python que encuentre y devuelva todos los pares de números primos gemelos menores que un número entero positivo m dado. Los números primos gemelos son pares de números primos que difieren en 2 (por ejemplo, 3 y 5)."
      ],
      "metadata": {
        "id": "V76Vo8oPU1qH"
      }
    },
    {
      "cell_type": "code",
      "source": [
        "def es_primo(n):\n",
        "  if n < 2:\n",
        "    return False\n",
        "  for i in range(2, int(n**0.5)+1):\n",
        "    if n % i == 0:\n",
        "      return False\n",
        "  return True\n",
        "\n",
        "def primos_gemelos(m):\n",
        "  pares = []\n",
        "  for i in range(2, m):\n",
        "    if es_primo(i) and es_primo(i+2):\n",
        "      pares.append((i, i+2))\n",
        "  return pares\n",
        "\n",
        "print(f'Primos gemelos: {primos_gemelos(15)}')"
      ],
      "metadata": {
        "colab": {
          "base_uri": "https://localhost:8080/"
        },
        "id": "vRD6oSHdU6OJ",
        "outputId": "1a1c5f6a-785f-4f42-f066-c31baae59cc8"
      },
      "execution_count": null,
      "outputs": [
        {
          "output_type": "stream",
          "name": "stdout",
          "text": [
            "Primos gemelos: [(3, 5), (5, 7), (11, 13)]\n"
          ]
        }
      ]
    },
    {
      "cell_type": "markdown",
      "source": [
        "Utilizando bucles, escribe una función en Python que genere el Triángulo de Pascal hasta una altura h dada e imprímelo en formato piramidal."
      ],
      "metadata": {
        "id": "x2_23t80VwIy"
      }
    },
    {
      "cell_type": "code",
      "source": [
        "def triangulo_pascal(h):\n",
        "  triangulo = [[1]]\n",
        "  for i in range(1, h):\n",
        "    fila = [1]\n",
        "    for j in range(1, i):\n",
        "      fila.append(triangulo[i-1][j-1] + triangulo[i-1][j])\n",
        "    fila.append(1)\n",
        "    triangulo.append(fila)\n",
        "  return triangulo\n",
        "\n",
        "triangulo = triangulo_pascal(5)\n",
        "\n",
        "def imprimir_piramide(triangulo):\n",
        "    h = len(triangulo)\n",
        "    for i in range(h):\n",
        "        print(\" \" * (h - i), end=\"\")\n",
        "        for elemento in triangulo[i]:\n",
        "            print(elemento, end=\" \")\n",
        "        print()\n",
        "\n",
        "imprimir_piramide(triangulo)"
      ],
      "metadata": {
        "colab": {
          "base_uri": "https://localhost:8080/"
        },
        "id": "ztSkvseuV9yg",
        "outputId": "99c813ff-2cdf-4123-d790-4b0e143eb809"
      },
      "execution_count": null,
      "outputs": [
        {
          "output_type": "stream",
          "name": "stdout",
          "text": [
            "     1 \n",
            "    1 1 \n",
            "   1 2 1 \n",
            "  1 3 3 1 \n",
            " 1 4 6 4 1 \n"
          ]
        }
      ]
    },
    {
      "cell_type": "markdown",
      "source": [
        "Escribe una función llamada analizar_frecuencia que tome una cadena de texto que puede contener múltiples oraciones.La función debe devolver un diccionario donde las claves son las palabras y los valores son el número de veces que aparece cada palabra en el texto. Ignora la puntuación y considera las mayúsculas y minúsculas como la misma letra."
      ],
      "metadata": {
        "id": "-q2J4O6uZz9d"
      }
    },
    {
      "cell_type": "code",
      "source": [
        "import string\n",
        "\n",
        "def analizar_frecuencia(texto):\n",
        "  palabras = texto.split()\n",
        "  puntuacion = string.punctuation\n",
        "  frecuencia = {}\n",
        "\n",
        "  for palabra in palabras:\n",
        "    if palabra[-1] in puntuacion:\n",
        "      palabra = palabra[:-1]\n",
        "    if palabra[0] in puntuacion:\n",
        "      palabra = palabra[1:]\n",
        "    palabra = palabra.lower()\n",
        "    if palabra in frecuencia:\n",
        "      frecuencia[palabra] += 1\n",
        "    else:\n",
        "      frecuencia[palabra] = 1\n",
        "\n",
        "  return frecuencia\n",
        "\n",
        "analizar_frecuencia(\"Hola, Mundo. !Hola a todos en el mundo!\")"
      ],
      "metadata": {
        "colab": {
          "base_uri": "https://localhost:8080/"
        },
        "id": "67Mti5VjXsxI",
        "outputId": "4a1949d6-2e7f-47ae-9acd-7aabccb3a750"
      },
      "execution_count": null,
      "outputs": [
        {
          "output_type": "execute_result",
          "data": {
            "text/plain": [
              "{'hola': 2, 'mundo': 2, 'a': 1, 'todos': 1, 'en': 1, 'el': 1}"
            ]
          },
          "metadata": {},
          "execution_count": 56
        }
      ]
    },
    {
      "cell_type": "markdown",
      "source": [
        "Crea un programa en Python que genere un número aleatorio entre 1 y 100.El usuario tiene que adivinar el número,y el programa debe darle pistas indicando \"másalto\" o \"másbajo\" después de cada intento.El juego  termina cuando el usuario adivina el número o sequeda sin intentos (máximo 10 intentos)."
      ],
      "metadata": {
        "id": "HhGZf-nxc_es"
      }
    },
    {
      "cell_type": "code",
      "source": [
        "import random\n",
        "\n",
        "def adivinar_numero():\n",
        "    numero = random.randint(1, 100)\n",
        "    intentos = 0\n",
        "    adivina = int(input(\"Adivina el número entre 1 y 100: \"))\n",
        "\n",
        "    while adivina != numero and intentos < 10:\n",
        "        if adivina < numero:\n",
        "            print(\"Más alto\")\n",
        "        elif adivina > numero:\n",
        "            print(\"Más bajo\")\n",
        "        intentos += 1\n",
        "        adivina = int(input(\"Adivina el número entre 1 y 100: \"))\n",
        "\n",
        "    if adivina == numero:\n",
        "        print(\"¡Ganaste!\")\n",
        "    else:\n",
        "        print(f\"Lo siento, perdiste. El número era {numero}\")\n",
        "\n",
        "adivinar_numero()\n",
        "\n"
      ],
      "metadata": {
        "colab": {
          "base_uri": "https://localhost:8080/"
        },
        "id": "fsFMZMbNc5X3",
        "outputId": "438bc093-dea1-460a-ee89-c5dc737a48a9"
      },
      "execution_count": null,
      "outputs": [
        {
          "output_type": "stream",
          "name": "stdout",
          "text": [
            "17\n",
            "Adivina el número entre 1 y 100: 1\n",
            "Más alto\n",
            "Adivina el número entre 1 y 100: 1\n",
            "Más alto\n",
            "Adivina el número entre 1 y 100: 20\n",
            "Lo siento, perdiste. El número era 17\n"
          ]
        }
      ]
    },
    {
      "cell_type": "markdown",
      "source": [
        " Escribe una función en Python llamada generar_contraseña que genere una contraseña segura de longitud l proporcionada por el usuario. La contraseña debe incluir una combinación de letras mayúsculas, minúsculas, números y símbolos especiales."
      ],
      "metadata": {
        "id": "gm5EzUa03p9x"
      }
    },
    {
      "cell_type": "code",
      "source": [
        "import random\n",
        "import string\n",
        "\n",
        "def generar_contraseña(l):\n",
        "  caracteres = string.punctuation + string.ascii_letters + string.digits\n",
        "  contraseña = ''\n",
        "  for i in range(l):\n",
        "    contraseña += random.choice(caracteres)\n",
        "  return contraseña\n",
        "\n",
        "print(generar_contraseña(10))\n"
      ],
      "metadata": {
        "colab": {
          "base_uri": "https://localhost:8080/"
        },
        "id": "OQSe9Kpl390s",
        "outputId": "0df5c6e8-4c59-4cd5-9d54-91089bd3d297"
      },
      "execution_count": null,
      "outputs": [
        {
          "output_type": "stream",
          "name": "stdout",
          "text": [
            "s.fd`{N_XE\n"
          ]
        }
      ]
    }
  ]
}