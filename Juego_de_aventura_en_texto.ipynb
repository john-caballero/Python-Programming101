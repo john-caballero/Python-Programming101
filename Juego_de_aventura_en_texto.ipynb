{
  "nbformat": 4,
  "nbformat_minor": 0,
  "metadata": {
    "colab": {
      "provenance": [],
      "authorship_tag": "ABX9TyPPPq2JtyFV60Q1gnGpt4yt",
      "include_colab_link": true
    },
    "kernelspec": {
      "name": "python3",
      "display_name": "Python 3"
    },
    "language_info": {
      "name": "python"
    }
  },
  "cells": [
    {
      "cell_type": "markdown",
      "metadata": {
        "id": "view-in-github",
        "colab_type": "text"
      },
      "source": [
        "<a href=\"https://colab.research.google.com/github/hvu88/Programacion_101/blob/ejercicios/Juego_de_aventura_en_texto.ipynb\" target=\"_parent\"><img src=\"https://colab.research.google.com/assets/colab-badge.svg\" alt=\"Open In Colab\"/></a>"
      ]
    },
    {
      "cell_type": "markdown",
      "source": [
        "Aplicación: Juego de Aventuras en Texto\n",
        "\n",
        "En este juego, el jugador explora un laberinto representado por una matriz (lista de listas). El jugador puede moverse en cuatro direcciones (arriba, abajo, izquierda, derecha) para descubrir diferentes habitaciones. Algunas habitaciones contienen objetos que el jugador puede recoger, almacenándolos en un inventario (diccionario). También hay trampas y obstáculos que el jugador debe evitar.\n",
        "________________________________________\n",
        "Instrucciones: Responde las siguientes preguntas. Cada pregunta requiere aplicar los conceptos aprendidos en clase. Escribe el código necesario y explica brevemente tu razonamiento cuando sea apropiado. Se espera que este examen represente un desafío y que demuestres tu comprensión profunda de los temas.\n",
        "\n",
        "Nombre y apellidos: Hugo Villanueva"
      ],
      "metadata": {
        "id": "02pS3ppf9kry"
      }
    },
    {
      "cell_type": "markdown",
      "source": [
        "**Pregunta 1: Matrices y Estructuras de Control**\n",
        "\n",
        "Crea un laberinto de 5x5 representado por una matriz (lista de listas). Inicializa la matriz con paredes representadas por '#' en los bordes y espacios vacíos representados por ' ' en el interior. Escribe el código para crear esta matriz y muestra el laberinto en pantalla de forma que cada fila aparezca en una línea diferente.\n"
      ],
      "metadata": {
        "id": "69tZIuKY99LG"
      }
    },
    {
      "cell_type": "code",
      "execution_count": 90,
      "metadata": {
        "id": "7srhbqYh89xk",
        "colab": {
          "base_uri": "https://localhost:8080/"
        },
        "outputId": "fbf898d2-5907-40bd-dba7-2cd2e0952e46"
      },
      "outputs": [
        {
          "output_type": "stream",
          "name": "stdout",
          "text": [
            " #  #  #  #  # \n",
            " #           # \n",
            " #           # \n",
            " #           # \n",
            " #  #  #  #  # \n"
          ]
        }
      ],
      "source": [
        "# Laberinto en matriz (lista de lista)\n",
        "\n",
        "laberinto = []\n",
        "\n",
        "for i in range(5):\n",
        "    fila = []\n",
        "    for j in range(5):\n",
        "        if i == 0 or i == 4 or j == 0 or j == 4:\n",
        "            fila.append(' # ')\n",
        "        else:\n",
        "            fila.append('   ')\n",
        "\n",
        "    laberinto.append(fila)\n",
        "\n",
        "for fila in laberinto:\n",
        "    print(''.join(fila))\n"
      ]
    },
    {
      "cell_type": "markdown",
      "source": [
        "**Pregunta 2: Slicing y Mostrar el Laberinto**\n",
        "\n",
        "Muestra el laberinto en pantalla marcando la posición del jugador con una 'P'. La posición inicial del jugador es (1, 1). Asegúrate de que la posición del jugador se refleje correctamente en la salida. Utiliza slicing para ayudar a mostrar las filas."
      ],
      "metadata": {
        "id": "7w78fvk7CAxW"
      }
    },
    {
      "cell_type": "code",
      "source": [
        "posicion_jugador = [1, 1]\n",
        "laberinto[posicion_jugador[0]][posicion_jugador[1]] = ' P '\n",
        "\n",
        "for fila in laberinto:\n",
        "    print(''.join(fila))"
      ],
      "metadata": {
        "colab": {
          "base_uri": "https://localhost:8080/"
        },
        "id": "mRnaJ5JsCFOB",
        "outputId": "fa4818ca-5ffc-49ce-9267-6293bda1d628"
      },
      "execution_count": 91,
      "outputs": [
        {
          "output_type": "stream",
          "name": "stdout",
          "text": [
            " #  #  #  #  # \n",
            " #  P        # \n",
            " #           # \n",
            " #           # \n",
            " #  #  #  #  # \n"
          ]
        }
      ]
    },
    {
      "cell_type": "markdown",
      "source": [
        "Pregunta 3: Diccionarios y Control de Flujo\n",
        "\n",
        "Crea un diccionario llamado inventario para almacenar los objetos que el jugador recolecta. Escribe el código que agrega un objeto al inventario cuando el jugador lo encuentra. Si el objeto ya existe en el inventario, incrementa su cantidad en 1; si no, añade el objeto al inventario con cantidad 1.\n"
      ],
      "metadata": {
        "id": "yfZVgHytDBkQ"
      }
    },
    {
      "cell_type": "code",
      "source": [
        "inventario = {}\n",
        "\n",
        "def agregar_objeto_al_inventario(objeto):\n",
        "    if objeto in inventario:\n",
        "        inventario[objeto] += 1\n",
        "    else:\n",
        "        inventario[objeto] = 1\n",
        "\n",
        "agregar_objeto_al_inventario('manzana')\n",
        "agregar_objeto_al_inventario('manzana')\n",
        "agregar_objeto_al_inventario('armadura')\n",
        "agregar_objeto_al_inventario('flecha')\n",
        "agregar_objeto_al_inventario('espada')\n",
        "agregar_objeto_al_inventario('espada')\n",
        "\n",
        "print(inventario)"
      ],
      "metadata": {
        "colab": {
          "base_uri": "https://localhost:8080/"
        },
        "id": "cwpxTIwxDCv2",
        "outputId": "239363ad-2443-4519-d070-d7ace02d71a9"
      },
      "execution_count": 43,
      "outputs": [
        {
          "output_type": "stream",
          "name": "stdout",
          "text": [
            "{'manzana': 2, 'armadura': 1, 'flecha': 1, 'espada': 2}\n"
          ]
        }
      ]
    },
    {
      "cell_type": "markdown",
      "source": [
        "Pregunta 4: Listas por Comprensión y Sets\n",
        "\n",
        "Supón que tienes una lista de objetos únicos del juego llamada objetos_unicos = ['espada', 'escudo', 'poción']. A partir del inventario, utiliza una lista por comprensión para extraer los objetos que están en objetos_unicos. Luego, convierte esta lista en un set para eliminar duplicados y muestra el set resultante.\n"
      ],
      "metadata": {
        "id": "ARH8nnedDbmH"
      }
    },
    {
      "cell_type": "code",
      "source": [
        "objetos_unicos = ['espada', 'escudo', 'poción']\n",
        "\n",
        "objetos_inventario = [objeto for objeto in inventario if objeto in objetos_unicos]\n",
        "\n",
        "set_objetos_inventario = set(objetos_inventario)\n",
        "\n",
        "print(f'objetos únicos: {set_objetos_inventario}')"
      ],
      "metadata": {
        "colab": {
          "base_uri": "https://localhost:8080/"
        },
        "id": "w7-oi5QODdJW",
        "outputId": "a54fd948-1728-4980-ec9c-d74c411cc9b5"
      },
      "execution_count": 45,
      "outputs": [
        {
          "output_type": "stream",
          "name": "stdout",
          "text": [
            "objetos únicos: {'espada'}\n"
          ]
        }
      ]
    },
    {
      "cell_type": "markdown",
      "source": [
        "Pregunta 5: Manipulación de Strings y Estructuras de Control\n",
        "\n",
        "Cuando el jugador encuentra un objeto, debes mostrar un mensaje personalizado que incluya el nombre del objeto en mayúsculas y la cantidad total en el inventario. Por ejemplo: \"¡Has encontrado una ESPADA! Ahora tienes 2 ESPADAS.\" Escribe el código que genera este mensaje utilizando manipulación de strings y accediendo al inventario.\n"
      ],
      "metadata": {
        "id": "g9-qidJXEWGI"
      }
    },
    {
      "cell_type": "code",
      "source": [
        "objeto_encontrado = 'flor'\n",
        "\n",
        "def mensaje_inventario(objeto_encontrado, inventario):\n",
        "    if objeto_encontrado in inventario:\n",
        "      cantidad_objeto = inventario[objeto_encontrado]\n",
        "      mensaje = f'¡Has encontrado una {objeto_encontrado.upper()}! Ahora tienes {cantidad_objeto} {objeto_encontrado}.'\n",
        "      print(mensaje)\n",
        "    else:\n",
        "      print(f'¡Nuevo objeto encontrado! {objeto_encontrado.upper()}')\n",
        "\n",
        "mensaje_inventario(objeto_encontrado,inventario)"
      ],
      "metadata": {
        "colab": {
          "base_uri": "https://localhost:8080/"
        },
        "id": "_jrJPUiKEXHB",
        "outputId": "6e430cbb-cd3e-45d8-fde2-d100605d1207"
      },
      "execution_count": 51,
      "outputs": [
        {
          "output_type": "stream",
          "name": "stdout",
          "text": [
            "¡Nuevo objeto encontrado! FLOR\n"
          ]
        }
      ]
    },
    {
      "cell_type": "markdown",
      "source": [
        "Pregunta 6: Slicing y Control de Flujo\n",
        "\n",
        "Las trampas en el laberinto están en posiciones almacenadas en la lista trampas = [(1, 2), (3, 4), (2, 2)]. Escribe el código que verifica si la posición actual del jugador coincide con alguna trampa. Si es así, reduce la salud del jugador en 10 puntos. La salud inicial del jugador es 100. Utiliza una técnica eficiente para la verificación.\n"
      ],
      "metadata": {
        "id": "uVwJRyWtHPEP"
      }
    },
    {
      "cell_type": "code",
      "source": [
        "salud_inicial = 100\n",
        "posicion_jugador = [1, 2]\n",
        "trampa = [(1, 2), (3, 4), (2, 2)]\n",
        "\n",
        "def verificar_trampa(posicion_jugador, salud_inicial):\n",
        "    for trampa_posicion in trampa:\n",
        "        if posicion_jugador == list(trampa_posicion):\n",
        "            salud_inicial -= 10\n",
        "    return salud_inicial\n",
        "\n",
        "salud_actual = verificar_trampa(posicion_jugador, salud_inicial)\n",
        "print(f'Salud actual: {salud_actual}')\n"
      ],
      "metadata": {
        "colab": {
          "base_uri": "https://localhost:8080/"
        },
        "id": "6P-OaqqiHSDe",
        "outputId": "befdce5d-dbf4-4db2-8ad7-2ba01f688dc4"
      },
      "execution_count": 73,
      "outputs": [
        {
          "output_type": "stream",
          "name": "stdout",
          "text": [
            "Salud actual: 90\n"
          ]
        }
      ]
    },
    {
      "cell_type": "markdown",
      "source": [
        "Pregunta 7: Listas Anidadas y Modificación de Matrices\n",
        "\n",
        "Cada vez que el jugador se mueve, actualiza la matriz del laberinto para reflejar el movimiento: coloca un espacio ' ' en la posición anterior y una 'P' en la nueva posición. Escribe el código que realiza esta actualización sin modificar las paredes ni otros elementos.\n"
      ],
      "metadata": {
        "id": "5vJTcQozKwTy"
      }
    },
    {
      "cell_type": "code",
      "source": [
        "nueva_posicion_jugador = [1, 4]\n",
        "\n",
        "laberinto[posicion_jugador[0]][posicion_jugador[1]] = '   '\n",
        "laberinto[nueva_posicion_jugador[0]][nueva_posicion_jugador[1]] = ' P '\n",
        "\n",
        "for fila in laberinto:\n",
        "    print(''.join(fila))"
      ],
      "metadata": {
        "colab": {
          "base_uri": "https://localhost:8080/"
        },
        "id": "LRxpNTrlKx1r",
        "outputId": "450f371b-245d-446b-d2b1-815df6f285f8"
      },
      "execution_count": 80,
      "outputs": [
        {
          "output_type": "stream",
          "name": "stdout",
          "text": [
            " #  #  #  #  # \n",
            " #        P  # \n",
            " #           # \n",
            " #           # \n",
            " #  #  #  #  # \n"
          ]
        }
      ]
    },
    {
      "cell_type": "markdown",
      "source": [
        "Pregunta 8: Control de Flujo y Movimientos del Jugador\n",
        "\n",
        "Escribe el código que permite al jugador moverse dentro del laberinto ingresando una dirección: 'arriba', 'abajo', 'izquierda' o 'derecha'. Actualiza la posición del jugador según la dirección ingresada, asegurándote de que no salga de los límites de la matriz ni atraviese paredes ('#'). Utiliza estructuras de control (condicionales) para manejar las reglas de movimiento.\n"
      ],
      "metadata": {
        "id": "hZCrYhFSLjid"
      }
    },
    {
      "cell_type": "code",
      "source": [
        "nueva_posicion_jugador = [1, 4]\n",
        "direccion = input(f'Ingresa una dirección de movimiento (arriba, abajo, izquierda o derecha): ' )\n",
        "\n",
        "def movimientos_jugador(direccion):\n",
        "  if direccion == 'arriba':\n",
        "    nueva_posicion_jugador[0] -=1\n",
        "  elif direccion == 'abajo':\n",
        "    nueva_posicion_jugador[0] +=1\n",
        "  elif direccion == 'izquierda':\n",
        "    nueva_posicion_jugador[1] -=1\n",
        "  elif direccion == 'derecha':\n",
        "    nueva_posicion_jugador[1] +=1\n",
        "  return nueva_posicion_jugador\n",
        "\n",
        "nueva_posicion_jugador = movimientos_jugador('abajo')\n",
        "\n",
        "print(f'Coordenadas jugador: {nueva_posicion_jugador} \\n')\n"
      ],
      "metadata": {
        "id": "61vRKULsLlMI"
      },
      "execution_count": null,
      "outputs": []
    }
  ]
}