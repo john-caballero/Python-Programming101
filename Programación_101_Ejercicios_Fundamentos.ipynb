{
  "nbformat": 4,
  "nbformat_minor": 0,
  "metadata": {
    "colab": {
      "provenance": [],
      "authorship_tag": "ABX9TyPrxN9OnrKqtFT0VeG8RT+i",
      "include_colab_link": true
    },
    "kernelspec": {
      "name": "python3",
      "display_name": "Python 3"
    },
    "language_info": {
      "name": "python"
    }
  },
  "cells": [
    {
      "cell_type": "markdown",
      "metadata": {
        "id": "view-in-github",
        "colab_type": "text"
      },
      "source": [
        "<a href=\"https://colab.research.google.com/github/hvu88/Programacion_101/blob/ejercicios/Programaci%C3%B3n_101_Ejercicios_Fundamentos.ipynb\" target=\"_parent\"><img src=\"https://colab.research.google.com/assets/colab-badge.svg\" alt=\"Open In Colab\"/></a>"
      ]
    },
    {
      "cell_type": "markdown",
      "source": [
        "### Ejercicio 3.1: Descuento basado en la edad\n",
        "\n",
        "Pide al usuario ingresar su edad y usa condicionales para aplicar los siguientes descuentos:\n",
        "- Si es menor de 18 años, obtiene un 50% de descuento.\n",
        "- Si tiene entre 18 y 65 años, obtiene un 10% de descuento.\n",
        "- Si es mayor de 65 años, obtiene un 30% de descuento."
      ],
      "metadata": {
        "id": "muqPj0YrrLWa"
      }
    },
    {
      "cell_type": "code",
      "execution_count": 70,
      "metadata": {
        "colab": {
          "base_uri": "https://localhost:8080/"
        },
        "id": "MVVt1E9OrGAL",
        "outputId": "aec7425a-f75d-42e5-b7ea-d83e5f968e4d"
      },
      "outputs": [
        {
          "output_type": "stream",
          "name": "stdout",
          "text": [
            "¿Cuántos años tienes? -1\n",
            "Ingresa la edad correctamente\n",
            "¿Cuántos años tienes? -10\n",
            "Ingresa la edad correctamente\n",
            "¿Cuántos años tienes? 700\n",
            "Ganaste un descuento del 30%\n"
          ]
        }
      ],
      "source": [
        "\n",
        "def nivel_descuento(age):\n",
        "  return \"Ganaste un descuento del 50%\" if age < 18 else \"Ganaste un descuento del 10%\" if age >= 18 and age <= 65 else \"Ganaste un descuento del 30%\"\n",
        "\n",
        "def solicitar_edad():\n",
        "  age = (input(\"¿Cuántos años tienes? \"))\n",
        "  if age.strip().isdigit():\n",
        "    age = int(age)\n",
        "    print(nivel_descuento(age))\n",
        "  else:\n",
        "    print(\"Ingresa la edad correctamente\")\n",
        "    solicitar_edad()\n",
        "\n",
        "solicitar_edad()\n"
      ]
    },
    {
      "cell_type": "markdown",
      "source": [
        "### Ejercicio 3.2: Estado de la temperatura\n",
        "\n",
        "Crea un programa que pida al usuario la temperatura en su ciudad y determine:\n",
        "- Si es mayor de 30 grados, imprime \"Hace mucho calor\".\n",
        "- Si está entre 20 y 30 grados, imprime \"El clima es agradable\".\n",
        "- Si es menor de 20 grados, imprime \"Hace frío\"."
      ],
      "metadata": {
        "id": "W_0leXgUtG30"
      }
    },
    {
      "cell_type": "code",
      "source": [
        "def nivel_temperatura(temperature):\n",
        "  if temperature > 30:\n",
        "    return \"Hace mucho calor\"\n",
        "  elif (temperature >= 20 and temperature <= 30):\n",
        "    return \"El clima es agradable\"\n",
        "  else:\n",
        "    return \"Hace frío\"\n",
        "\n",
        "def solicitar_temperatura():\n",
        "  temperature = (input(\"¿Cuál es la temperatura en tu ciudad? \"))\n",
        "  try:\n",
        "    temperature = float(temperature)\n",
        "    print(nivel_temperatura(temperature))\n",
        "  except ValueError:\n",
        "    print(\"Ingresa la temperatura correctamente\")\n",
        "    solicitar_temperatura()\n",
        "\n",
        "solicitar_temperatura()\n"
      ],
      "metadata": {
        "colab": {
          "base_uri": "https://localhost:8080/"
        },
        "id": "Fu00OASVs_D-",
        "outputId": "2532b6d6-09b4-42e7-ab39-ea26486d37f1"
      },
      "execution_count": 72,
      "outputs": [
        {
          "output_type": "stream",
          "name": "stdout",
          "text": [
            "¿Cuál es la temperatura en tu ciudad? 1.1\n",
            "Hace frío\n"
          ]
        }
      ]
    },
    {
      "cell_type": "markdown",
      "source": [
        "### Ejercicio 3.3: Sistema de votación\n",
        "\n",
        "Crea un programa que determine si una persona puede votar. Pide al usuario su nacionalidad y edad.\n",
        "- Si la persona es de nacionalidad \"Peruana\" y mayor de 18 años, permite que vote.\n",
        "- Si es menor de edad o no es de esa nacionalidad, no puede votar."
      ],
      "metadata": {
        "id": "2QdYyMKzvgg3"
      }
    },
    {
      "cell_type": "code",
      "source": [
        "def validar_edad(age):\n",
        "  if age.strip().isdigit():\n",
        "    return True\n",
        "  else:\n",
        "    return False\n",
        "\n",
        "def validar_nacionalidad(nationality):\n",
        "  if nationality.isdigit():\n",
        "    return False\n",
        "  else:\n",
        "    return True\n",
        "\n",
        "def votante_valido(age, nationality):\n",
        "  return \"Puedes votar\" if nationality.lower().strip() == \"peruana\" or nationality.lower().strip() == \"peruano\" and int(age) > 18 else \"No puedes votar\"\n",
        "\n",
        "def solicitar_nacionalidad():\n",
        "  nationality = input(\"¿Cuál es tu nacionalidad? \")\n",
        "  if nationality.isdigit() or len(nationality) == 0:\n",
        "    print(\"Ingresa la nacionalidad correctamente\")\n",
        "    return solicitar_nacionalidad()\n",
        "  else:\n",
        "    return nationality\n",
        "\n",
        "\n",
        "def solicitar_informacion():\n",
        "  age = input(\"¿Cuántos años tienes? \")\n",
        "  if validar_edad(age):\n",
        "    nationality = solicitar_nacionalidad()\n",
        "    print(votante_valido(age, nationality))\n",
        "  else:\n",
        "    print(\"Ingresa la edad correctamente\")\n",
        "    solicitar_informacion()\n",
        "\n",
        "solicitar_informacion()\n"
      ],
      "metadata": {
        "colab": {
          "base_uri": "https://localhost:8080/"
        },
        "id": "s3N20-Kjvd4p",
        "outputId": "c926b7b9-5c9a-425a-bd40-3aa3bbd44346"
      },
      "execution_count": 83,
      "outputs": [
        {
          "output_type": "stream",
          "name": "stdout",
          "text": [
            "¿Cuántos años tienes? 20\n",
            "¿Cuál es tu nacionalidad?         peruano\n",
            "Puedes votar\n"
          ]
        }
      ]
    },
    {
      "cell_type": "markdown",
      "source": [
        "### Ejercicio 3.4: Notas de estudiantes\n",
        "\n",
        "Escribe un programa que determine la calificación de un estudiante en función de su nota:\n",
        "- Si la nota es mayor o igual a 90: \"Sobresaliente\".\n",
        "- Si está entre 70 y 89: \"Aprobado\".\n",
        "- Si es menor de 70: \"Desaprobado\"."
      ],
      "metadata": {
        "id": "hF7hbLEaQtsn"
      }
    },
    {
      "cell_type": "code",
      "source": [
        "def solicitar_nota():\n",
        "  mark = (input(\"¿Cuál es tu nota? \"))\n",
        "  try:\n",
        "    mark = float(mark)\n",
        "    print(nivel_nota(mark))\n",
        "  except ValueError:\n",
        "    print(\"Ingresa la nota correctamente\")\n",
        "    solicitar_nota()\n",
        "\n",
        "def nivel_nota(mark):\n",
        "  if mark >= 90:\n",
        "    return \"Sobresaliente\"\n",
        "  elif mark >= 70 and mark <= 89:\n",
        "    return \"Aprobado\"\n",
        "  elif mark < 70:\n",
        "    return \"Desaprobado\"\n",
        "  else:\n",
        "    print(\"Ingresa la nota correctamente\")\n",
        "    nivel_nota(mark)\n",
        "\n",
        "solicitar_nota()\n",
        ""
      ],
      "metadata": {
        "colab": {
          "base_uri": "https://localhost:8080/"
        },
        "id": "c8TYPYUbQv9S",
        "outputId": "51e8e58a-dc2d-45ec-d74d-cb37d888a54b"
      },
      "execution_count": 84,
      "outputs": [
        {
          "output_type": "stream",
          "name": "stdout",
          "text": [
            "¿Cuál es tu nota? \n",
            "Ingresa la nota correctamente\n",
            "¿Cuál es tu nota? \n",
            "Ingresa la nota correctamente\n",
            "¿Cuál es tu nota? qw\n",
            "Ingresa la nota correctamente\n",
            "¿Cuál es tu nota? 10000\n",
            "Sobresaliente\n"
          ]
        }
      ]
    },
    {
      "cell_type": "markdown",
      "source": [
        "## <b>4. Desafío</b>"
      ],
      "metadata": {
        "id": "M4WT7gzJRMZ3"
      }
    },
    {
      "cell_type": "markdown",
      "source": [
        "### Desafío 1: Calculadora de propinas inteligente\n",
        "\n",
        "Crea un programa que simule una calculadora de propinas en un restaurante. El programa debe:\n",
        "\n",
        "- Pedir al usuario que ingrese el total de la cuenta.\n",
        "- Pedir el porcentaje de propina que le gustaría dejar (por ejemplo, 10%, 15%, 20%).\n",
        "\n",
        "Usar condicionales para sugerir automáticamente un valor si no se ingresa un porcentaje, basándose en la experiencia:\n",
        "\n",
        "- Si el servicio fue excelente, sugerir 20%.\n",
        "- Si el servicio fue bueno, sugerir 15%.\n",
        "- Si el servicio fue mediocre, sugerir 10%.\n",
        "- Si el servicio fue malo, no sugerir propina.\n",
        "\n",
        "Calcular e imprimir la cantidad de propina y el total a pagar (cuenta + propina)."
      ],
      "metadata": {
        "id": "9JaDmiTFRQ4l"
      }
    },
    {
      "cell_type": "code",
      "source": [
        "def recomendacion_propina():\n",
        "  experiencia = input(\"¿Cómo fue el servicio? \")\n",
        "  experiencia_ = experiencia.lower().strip()\n",
        "  if experiencia_ == \"excelente\":\n",
        "    return 20\n",
        "  elif experiencia_ == \"bueno\":\n",
        "    return 15\n",
        "  elif experiencia_ == \"mediocre\":\n",
        "    return 10\n",
        "  elif experiencia_ == \"malo\":\n",
        "    return 0\n",
        "  else:\n",
        "    print(\"Califica tu experiencia: excelente, bueno, mediocre o malo\")\n",
        "    return recomendacion_propina()\n",
        "\n",
        "def calcular_propina(bill):\n",
        "  tip = input(\"¿Cuál es el % de propina que le gustaría dejar? \")\n",
        "  if len(tip) == 0:\n",
        "    print(\"No has ingresado valor\")\n",
        "    print(\"Te sugeriremos la propina según tu experiencia: excelente, bueno, mediocre o malo\")\n",
        "    return bill*recomendacion_propina()/100\n",
        "  else:\n",
        "    try:\n",
        "      tip = float(tip)\n",
        "      return bill*tip/100\n",
        "    except ValueError:\n",
        "      print(\"Ingresa la propina correctamente\")\n",
        "      return calcular_propina(bill)\n",
        "\n",
        "def solicitar_cuenta():\n",
        "  bill = (input(\"¿Cuál es el total de la cuenta? \"))\n",
        "  try:\n",
        "    bill = float(bill)\n",
        "    tip = calcular_propina(bill)\n",
        "    print(f'Propina: {round(tip,2)}')\n",
        "    print(f'Total a pagar: {round(bill+tip,2)}')\n",
        "  except ValueError:\n",
        "    print(\"Ingresa la cuenta correctamente\")\n",
        "    solicitar_cuenta()\n",
        "\n",
        "solicitar_cuenta()"
      ],
      "metadata": {
        "id": "PKwkJERJRQkf",
        "colab": {
          "base_uri": "https://localhost:8080/"
        },
        "outputId": "2520edf2-1f28-4f8f-85eb-a4971e4624b5"
      },
      "execution_count": 93,
      "outputs": [
        {
          "output_type": "stream",
          "name": "stdout",
          "text": [
            "¿Cuál es el total de la cuenta? 100.4\n",
            "¿Cuál es el % de propina que le gustaría dejar? 10.2\n",
            "Propina: 10.24\n",
            "Total a pagar: 110.64\n"
          ]
        }
      ]
    },
    {
      "cell_type": "markdown",
      "source": [
        "### Desafío 2: Clasificación de Números\n",
        "\n",
        "Escribe un programa que clasifique un número dado por el usuario según sus características numéricas. El programa debe:\n",
        "\n",
        "Pedir al usuario que ingrese un número entero.\n",
        "\n",
        "Determinar si el número es:\n",
        "- Par o impar.\n",
        "- Positivo, negativo o cero.\n",
        "- Primo o no primo (un número primo solo es divisible por 1 y por sí mismo).\n",
        "- Imprimir una clasificación completa del número según las tres categorías anteriores."
      ],
      "metadata": {
        "id": "yQJ0Rye7tr9c"
      }
    },
    {
      "cell_type": "code",
      "source": [
        "def es_par(n):\n",
        "  return \"par\" if n % 2 == 0 else \"impar\"\n",
        "\n",
        "def ubicacion_numero(n):\n",
        "  return \"positivo\" if n > 0 else \"negativo\" if n < 0 else \"cero\"\n",
        "\n",
        "def es_primo(n):\n",
        "  if n < 2:\n",
        "    return \"no primo\"\n",
        "  for i in range(2, n):\n",
        "    if n % i == 0:\n",
        "      return \"no primo\"\n",
        "  return \"primo\"\n",
        "\n",
        "def clasificar_numero():\n",
        "  n = input(\"Ingresa un número entero: \")\n",
        "  try:\n",
        "    n = float(n)\n",
        "    if n%1 == 0:\n",
        "      n = int(n)\n",
        "      print(f'El número {n} es {es_par(n)}, {ubicacion_numero(n)} y {es_primo(n)}')\n",
        "    else:\n",
        "      print(\"No has ingresado un número entero\")\n",
        "      clasificar_numero()\n",
        "  except ValueError:\n",
        "    print(\"No has ingresado un número entero\")\n",
        "    clasificar_numero()\n",
        "\n",
        "clasificar_numero()\n",
        "\n"
      ],
      "metadata": {
        "colab": {
          "base_uri": "https://localhost:8080/"
        },
        "id": "JkTTj3qKuFF_",
        "outputId": "f2ffc4f6-6e67-4054-fb6d-014af6426d1e"
      },
      "execution_count": 114,
      "outputs": [
        {
          "output_type": "stream",
          "name": "stdout",
          "text": [
            "Ingresa un número entero: 10.2\n",
            "No has ingresado un número entero\n",
            "Ingresa un número entero: 10.00\n",
            "El número 10 es par, positivo y no primo\n"
          ]
        }
      ]
    },
    {
      "cell_type": "markdown",
      "source": [],
      "metadata": {
        "id": "x9Uy8UINrIyT"
      }
    }
  ]
}